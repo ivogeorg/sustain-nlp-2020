{
 "cells": [
  {
   "cell_type": "markdown",
   "metadata": {},
   "source": [
    "# Sustain NLP 2020\n",
    "## First Workshop on Simple and Efficient Natural Language Processing\n",
    "\n",
    "##### References\n",
    "###### 1. Workshop at EMNLP 2020\n",
    "1. [Workshop home](https://sites.google.com/view/sustainlp2020/home).  \n",
    "\n",
    "2. [Shared task](https://sites.google.com/view/sustainlp2020/shared-task?authuser=0) on the [SuperGLUE](https://super.gluebenchmark.com/) bechmark.  "
   ]
  },
  {
   "cell_type": "code",
   "execution_count": null,
   "metadata": {},
   "outputs": [],
   "source": []
  }
 ],
 "metadata": {
  "kernelspec": {
   "display_name": "Python 3",
   "language": "python",
   "name": "python3"
  },
  "language_info": {
   "codemirror_mode": {
    "name": "ipython",
    "version": 3
   },
   "file_extension": ".py",
   "mimetype": "text/x-python",
   "name": "python",
   "nbconvert_exporter": "python",
   "pygments_lexer": "ipython3",
   "version": "3.7.7"
  }
 },
 "nbformat": 4,
 "nbformat_minor": 4
}
